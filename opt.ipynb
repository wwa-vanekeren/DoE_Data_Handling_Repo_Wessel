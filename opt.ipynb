{
 "cells": [
  {
   "attachments": {},
   "cell_type": "markdown",
   "metadata": {},
   "source": [
    "<a href=\"https://colab.research.google.com/github/Teoroo-CMC/DoE_Course_Material/blob/main/Week_2/Lab_1/Task_2/opt.ipynb\" target=\"_parent\"><img src=\"https://colab.research.google.com/assets/colab-badge.svg\" alt=\"Open In Colab\"/></a>"
   ]
  },
  {
   "attachments": {},
   "cell_type": "markdown",
   "metadata": {},
   "source": [
    "# Lab: find optimum"
   ]
  },
  {
   "cell_type": "code",
   "execution_count": null,
   "metadata": {},
   "outputs": [],
   "source": [
    "import numpy as np\n",
    "import matplotlib.pyplot as plt\n"
   ]
  },
  {
   "attachments": {},
   "cell_type": "markdown",
   "metadata": {},
   "source": [
    "## Experiment\n",
    "This part defines you experiment. To get data from your experimental setup, just \n",
    "\n",
    "```python \n",
    "gaussian_function=(x, y, fwhm)\n",
    "```\n",
    "\n",
    "which will give you you result "
   ]
  },
  {
   "cell_type": "code",
   "execution_count": null,
   "metadata": {},
   "outputs": [],
   "source": [
    "# Data generation. Doo not touch... This is your physical space :) \n",
    "\n",
    "def gaussian_function(x, y, pars=None, add_noise=False):\n",
    "    # to be changed: genereate all data here\n",
    "    np.random.seed(2)\n",
    "    if not pars:\n",
    "        x0 = np.random.randn(1)[0]+0.5\n",
    "        y0 = x0+0.5\n",
    "        fwhm = np.random.normal(loc=1.5,scale=3, size=100).mean()\n",
    "    else:\n",
    "        x0, y0, fwhm = pars\n",
    "        \n",
    "    func = 10*np.exp(-4*np.log(2) * ((x-x0)**2 + (y-y0)**2) / fwhm**2)\n",
    "    \n",
    "    if add_noise:\n",
    "        func = add_noise_func(func)\n",
    "    \n",
    "    return func, x0, y0, fwhm\n",
    "\n",
    "def add_noise_func(input_data, mean_noise=0):\n",
    "    # incomplete: refactor code to generate data + noise in one function\n",
    "    avg_data = np.mean(input_data)\n",
    "    noise_ = np.random.normal(mean_noise, np.sqrt(avg_data), 1)[0]\n",
    "    output_data = input_data + noise_\n",
    "    \n",
    "    return output_data\n",
    "\n"
   ]
  },
  {
   "attachments": {},
   "cell_type": "markdown",
   "metadata": {},
   "source": [
    "This is how you call for experimental data at x=1 and y=1: "
   ]
  },
  {
   "cell_type": "code",
   "execution_count": null,
   "metadata": {},
   "outputs": [],
   "source": [
    "gaussian_function(1,1)[0]"
   ]
  },
  {
   "attachments": {},
   "cell_type": "markdown",
   "metadata": {},
   "source": [
    "Use DoE and factioral design to locate the maxima. "
   ]
  }
 ],
 "metadata": {
  "kernelspec": {
   "display_name": "course_book_II",
   "language": "python",
   "name": "python3"
  },
  "language_info": {
   "codemirror_mode": {
    "name": "ipython",
    "version": 3
   },
   "file_extension": ".py",
   "mimetype": "text/x-python",
   "name": "python",
   "nbconvert_exporter": "python",
   "pygments_lexer": "ipython3",
   "version": "3.9.16"
  },
  "orig_nbformat": 4
 },
 "nbformat": 4,
 "nbformat_minor": 2
}
